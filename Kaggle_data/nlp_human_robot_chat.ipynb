{
 "cells": [
  {
   "cell_type": "code",
   "execution_count": 1,
   "metadata": {
    "collapsed": true
   },
   "outputs": [],
   "source": [
    "import numpy as np\n",
    "import pandas as pd\n",
    "import nltk     #natural language tool kit\n"
   ]
  },
  {
   "cell_type": "code",
   "execution_count": 2,
   "metadata": {
    "collapsed": true
   },
   "outputs": [],
   "source": [
    "import matplotlib.pyplot as plt\n",
    "import seaborn as sns\n",
    "%matplotlib inline"
   ]
  },
  {
   "cell_type": "code",
   "execution_count": 3,
   "metadata": {
    "collapsed": true
   },
   "outputs": [],
   "source": [
    "df=pd.read_csv('rdany_conversations_2016-03-01.csv')"
   ]
  },
  {
   "cell_type": "code",
   "execution_count": 4,
   "metadata": {
    "collapsed": false
   },
   "outputs": [
    {
     "data": {
      "text/html": [
       "<div>\n",
       "<style>\n",
       "    .dataframe thead tr:only-child th {\n",
       "        text-align: right;\n",
       "    }\n",
       "\n",
       "    .dataframe thead th {\n",
       "        text-align: left;\n",
       "    }\n",
       "\n",
       "    .dataframe tbody tr th {\n",
       "        vertical-align: top;\n",
       "    }\n",
       "</style>\n",
       "<table border=\"1\" class=\"dataframe\">\n",
       "  <thead>\n",
       "    <tr style=\"text-align: right;\">\n",
       "      <th></th>\n",
       "      <th>source</th>\n",
       "      <th>text</th>\n",
       "      <th>date</th>\n",
       "      <th>hashed_message_id</th>\n",
       "      <th>hashed_chat_id</th>\n",
       "    </tr>\n",
       "  </thead>\n",
       "  <tbody>\n",
       "    <tr>\n",
       "      <th>0</th>\n",
       "      <td>human</td>\n",
       "      <td>[START]</td>\n",
       "      <td>0</td>\n",
       "      <td>fce1649c457fcd02600f0f1aece46c1a88d3258fdfc2d8...</td>\n",
       "      <td>b71a7a6e3eae414113fd7c6d3fc3e13b50fd5fbf335b95...</td>\n",
       "    </tr>\n",
       "    <tr>\n",
       "      <th>1</th>\n",
       "      <td>robot</td>\n",
       "      <td>Hi there, how are you!? 😁😁</td>\n",
       "      <td>23789</td>\n",
       "      <td>8601139615d43330986f3f27b78bcf0212d2a4f1e4a4d7...</td>\n",
       "      <td>b71a7a6e3eae414113fd7c6d3fc3e13b50fd5fbf335b95...</td>\n",
       "    </tr>\n",
       "    <tr>\n",
       "      <th>2</th>\n",
       "      <td>human</td>\n",
       "      <td>Oh, thanks! I'm fine. This is an evening in my...</td>\n",
       "      <td>41177</td>\n",
       "      <td>a2eb7031aa536c89231517fc71ea3315c89ca50fef155b...</td>\n",
       "      <td>b71a7a6e3eae414113fd7c6d3fc3e13b50fd5fbf335b95...</td>\n",
       "    </tr>\n",
       "    <tr>\n",
       "      <th>3</th>\n",
       "      <td>robot</td>\n",
       "      <td>😄 here is afternoon!</td>\n",
       "      <td>41598</td>\n",
       "      <td>e0ac851c9ff34cd39a7e490fb9021163b8be6df097737f...</td>\n",
       "      <td>b71a7a6e3eae414113fd7c6d3fc3e13b50fd5fbf335b95...</td>\n",
       "    </tr>\n",
       "    <tr>\n",
       "      <th>4</th>\n",
       "      <td>human</td>\n",
       "      <td>How do you feel today? Tell me something about...</td>\n",
       "      <td>41629</td>\n",
       "      <td>0d2937ef1d5e806d46b78f2264bee44f9cbad0d68e4ce2...</td>\n",
       "      <td>b71a7a6e3eae414113fd7c6d3fc3e13b50fd5fbf335b95...</td>\n",
       "    </tr>\n",
       "  </tbody>\n",
       "</table>\n",
       "</div>"
      ],
      "text/plain": [
       "  source                                               text   date  \\\n",
       "0  human                                            [START]      0   \n",
       "1  robot                       Hi there, how are you!? 😁😁  23789   \n",
       "2  human  Oh, thanks! I'm fine. This is an evening in my...  41177   \n",
       "3  robot                              😄 here is afternoon!  41598   \n",
       "4  human  How do you feel today? Tell me something about...  41629   \n",
       "\n",
       "                                   hashed_message_id  \\\n",
       "0  fce1649c457fcd02600f0f1aece46c1a88d3258fdfc2d8...   \n",
       "1  8601139615d43330986f3f27b78bcf0212d2a4f1e4a4d7...   \n",
       "2  a2eb7031aa536c89231517fc71ea3315c89ca50fef155b...   \n",
       "3  e0ac851c9ff34cd39a7e490fb9021163b8be6df097737f...   \n",
       "4  0d2937ef1d5e806d46b78f2264bee44f9cbad0d68e4ce2...   \n",
       "\n",
       "                                      hashed_chat_id  \n",
       "0  b71a7a6e3eae414113fd7c6d3fc3e13b50fd5fbf335b95...  \n",
       "1  b71a7a6e3eae414113fd7c6d3fc3e13b50fd5fbf335b95...  \n",
       "2  b71a7a6e3eae414113fd7c6d3fc3e13b50fd5fbf335b95...  \n",
       "3  b71a7a6e3eae414113fd7c6d3fc3e13b50fd5fbf335b95...  \n",
       "4  b71a7a6e3eae414113fd7c6d3fc3e13b50fd5fbf335b95...  "
      ]
     },
     "execution_count": 4,
     "metadata": {},
     "output_type": "execute_result"
    }
   ],
   "source": [
    "df.head()"
   ]
  },
  {
   "cell_type": "code",
   "execution_count": 10,
   "metadata": {
    "collapsed": false
   },
   "outputs": [],
   "source": [
    "df['textlen']=df['text'].apply(len)"
   ]
  },
  {
   "cell_type": "code",
   "execution_count": 17,
   "metadata": {
    "collapsed": false
   },
   "outputs": [
    {
     "data": {
      "text/html": [
       "<div>\n",
       "<style>\n",
       "    .dataframe thead tr:only-child th {\n",
       "        text-align: right;\n",
       "    }\n",
       "\n",
       "    .dataframe thead th {\n",
       "        text-align: left;\n",
       "    }\n",
       "\n",
       "    .dataframe tbody tr th {\n",
       "        vertical-align: top;\n",
       "    }\n",
       "</style>\n",
       "<table border=\"1\" class=\"dataframe\">\n",
       "  <thead>\n",
       "    <tr style=\"text-align: right;\">\n",
       "      <th></th>\n",
       "      <th>source</th>\n",
       "      <th>text</th>\n",
       "      <th>date</th>\n",
       "      <th>hashed_message_id</th>\n",
       "      <th>hashed_chat_id</th>\n",
       "      <th>textlen</th>\n",
       "    </tr>\n",
       "  </thead>\n",
       "  <tbody>\n",
       "    <tr>\n",
       "      <th>0</th>\n",
       "      <td>human</td>\n",
       "      <td>[START]</td>\n",
       "      <td>0</td>\n",
       "      <td>fce1649c457fcd02600f0f1aece46c1a88d3258fdfc2d8...</td>\n",
       "      <td>b71a7a6e3eae414113fd7c6d3fc3e13b50fd5fbf335b95...</td>\n",
       "      <td>7</td>\n",
       "    </tr>\n",
       "    <tr>\n",
       "      <th>1</th>\n",
       "      <td>robot</td>\n",
       "      <td>Hi there, how are you!? 😁😁</td>\n",
       "      <td>23789</td>\n",
       "      <td>8601139615d43330986f3f27b78bcf0212d2a4f1e4a4d7...</td>\n",
       "      <td>b71a7a6e3eae414113fd7c6d3fc3e13b50fd5fbf335b95...</td>\n",
       "      <td>32</td>\n",
       "    </tr>\n",
       "  </tbody>\n",
       "</table>\n",
       "</div>"
      ],
      "text/plain": [
       "  source                          text   date  \\\n",
       "0  human                       [START]      0   \n",
       "1  robot  Hi there, how are you!? 😁😁  23789   \n",
       "\n",
       "                                   hashed_message_id  \\\n",
       "0  fce1649c457fcd02600f0f1aece46c1a88d3258fdfc2d8...   \n",
       "1  8601139615d43330986f3f27b78bcf0212d2a4f1e4a4d7...   \n",
       "\n",
       "                                      hashed_chat_id  textlen  \n",
       "0  b71a7a6e3eae414113fd7c6d3fc3e13b50fd5fbf335b95...        7  \n",
       "1  b71a7a6e3eae414113fd7c6d3fc3e13b50fd5fbf335b95...       32  "
      ]
     },
     "execution_count": 17,
     "metadata": {},
     "output_type": "execute_result"
    }
   ],
   "source": [
    "df.head(2)"
   ]
  },
  {
   "cell_type": "code",
   "execution_count": 16,
   "metadata": {
    "collapsed": true
   },
   "outputs": [],
   "source": [
    "def text_process(mess):\n",
    "    \"\"\"\n",
    "    Takes in a string of text, then performs the following:\n",
    "    1. Remove all punctuation\n",
    "    2. Remove all stopwords\n",
    "    3. Returns a list of the cleaned text\n",
    "    \"\"\"\n",
    "    nopunc=[char for char in mess if char not in string.punctuation ]\n",
    "    return(''.join(nopunc))\n",
    "    "
   ]
  },
  {
   "cell_type": "code",
   "execution_count": 18,
   "metadata": {
    "collapsed": true
   },
   "outputs": [],
   "source": [
    "df['text']=df['text'].apply(text_process)"
   ]
  },
  {
   "cell_type": "code",
   "execution_count": 19,
   "metadata": {
    "collapsed": false
   },
   "outputs": [
    {
     "data": {
      "text/html": [
       "<div>\n",
       "<style>\n",
       "    .dataframe thead tr:only-child th {\n",
       "        text-align: right;\n",
       "    }\n",
       "\n",
       "    .dataframe thead th {\n",
       "        text-align: left;\n",
       "    }\n",
       "\n",
       "    .dataframe tbody tr th {\n",
       "        vertical-align: top;\n",
       "    }\n",
       "</style>\n",
       "<table border=\"1\" class=\"dataframe\">\n",
       "  <thead>\n",
       "    <tr style=\"text-align: right;\">\n",
       "      <th></th>\n",
       "      <th>source</th>\n",
       "      <th>text</th>\n",
       "      <th>date</th>\n",
       "      <th>hashed_message_id</th>\n",
       "      <th>hashed_chat_id</th>\n",
       "      <th>textlen</th>\n",
       "    </tr>\n",
       "  </thead>\n",
       "  <tbody>\n",
       "    <tr>\n",
       "      <th>0</th>\n",
       "      <td>human</td>\n",
       "      <td>START</td>\n",
       "      <td>0</td>\n",
       "      <td>fce1649c457fcd02600f0f1aece46c1a88d3258fdfc2d8...</td>\n",
       "      <td>b71a7a6e3eae414113fd7c6d3fc3e13b50fd5fbf335b95...</td>\n",
       "      <td>7</td>\n",
       "    </tr>\n",
       "    <tr>\n",
       "      <th>1</th>\n",
       "      <td>robot</td>\n",
       "      <td>Hi there how are you 😁😁</td>\n",
       "      <td>23789</td>\n",
       "      <td>8601139615d43330986f3f27b78bcf0212d2a4f1e4a4d7...</td>\n",
       "      <td>b71a7a6e3eae414113fd7c6d3fc3e13b50fd5fbf335b95...</td>\n",
       "      <td>32</td>\n",
       "    </tr>\n",
       "  </tbody>\n",
       "</table>\n",
       "</div>"
      ],
      "text/plain": [
       "  source                       text   date  \\\n",
       "0  human                      START      0   \n",
       "1  robot  Hi there how are you 😁😁  23789   \n",
       "\n",
       "                                   hashed_message_id  \\\n",
       "0  fce1649c457fcd02600f0f1aece46c1a88d3258fdfc2d8...   \n",
       "1  8601139615d43330986f3f27b78bcf0212d2a4f1e4a4d7...   \n",
       "\n",
       "                                      hashed_chat_id  textlen  \n",
       "0  b71a7a6e3eae414113fd7c6d3fc3e13b50fd5fbf335b95...        7  \n",
       "1  b71a7a6e3eae414113fd7c6d3fc3e13b50fd5fbf335b95...       32  "
      ]
     },
     "execution_count": 19,
     "metadata": {},
     "output_type": "execute_result"
    }
   ],
   "source": [
    "df.head(2)"
   ]
  },
  {
   "cell_type": "code",
   "execution_count": 20,
   "metadata": {
    "collapsed": false
   },
   "outputs": [
    {
     "name": "stdout",
     "output_type": "stream",
     "text": [
      "START\n",
      "Hi there how are you 😁😁\n",
      "Oh thanks Im fine This is an evening in my timezone\n"
     ]
    }
   ],
   "source": [
    "for i in range(3):\n",
    "    print(df['text'][i])"
   ]
  },
  {
   "cell_type": "code",
   "execution_count": 21,
   "metadata": {
    "collapsed": true
   },
   "outputs": [],
   "source": [
    "df['len']=df['text'].apply(lambda x: len(x.split()))"
   ]
  },
  {
   "cell_type": "code",
   "execution_count": 22,
   "metadata": {
    "collapsed": false
   },
   "outputs": [
    {
     "data": {
      "text/html": [
       "<div>\n",
       "<style>\n",
       "    .dataframe thead tr:only-child th {\n",
       "        text-align: right;\n",
       "    }\n",
       "\n",
       "    .dataframe thead th {\n",
       "        text-align: left;\n",
       "    }\n",
       "\n",
       "    .dataframe tbody tr th {\n",
       "        vertical-align: top;\n",
       "    }\n",
       "</style>\n",
       "<table border=\"1\" class=\"dataframe\">\n",
       "  <thead>\n",
       "    <tr style=\"text-align: right;\">\n",
       "      <th></th>\n",
       "      <th>source</th>\n",
       "      <th>text</th>\n",
       "      <th>date</th>\n",
       "      <th>hashed_message_id</th>\n",
       "      <th>hashed_chat_id</th>\n",
       "      <th>textlen</th>\n",
       "      <th>len</th>\n",
       "    </tr>\n",
       "  </thead>\n",
       "  <tbody>\n",
       "    <tr>\n",
       "      <th>0</th>\n",
       "      <td>human</td>\n",
       "      <td>START</td>\n",
       "      <td>0</td>\n",
       "      <td>fce1649c457fcd02600f0f1aece46c1a88d3258fdfc2d8...</td>\n",
       "      <td>b71a7a6e3eae414113fd7c6d3fc3e13b50fd5fbf335b95...</td>\n",
       "      <td>7</td>\n",
       "      <td>1</td>\n",
       "    </tr>\n",
       "    <tr>\n",
       "      <th>1</th>\n",
       "      <td>robot</td>\n",
       "      <td>Hi there how are you 😁😁</td>\n",
       "      <td>23789</td>\n",
       "      <td>8601139615d43330986f3f27b78bcf0212d2a4f1e4a4d7...</td>\n",
       "      <td>b71a7a6e3eae414113fd7c6d3fc3e13b50fd5fbf335b95...</td>\n",
       "      <td>32</td>\n",
       "      <td>6</td>\n",
       "    </tr>\n",
       "  </tbody>\n",
       "</table>\n",
       "</div>"
      ],
      "text/plain": [
       "  source                       text   date  \\\n",
       "0  human                      START      0   \n",
       "1  robot  Hi there how are you 😁😁  23789   \n",
       "\n",
       "                                   hashed_message_id  \\\n",
       "0  fce1649c457fcd02600f0f1aece46c1a88d3258fdfc2d8...   \n",
       "1  8601139615d43330986f3f27b78bcf0212d2a4f1e4a4d7...   \n",
       "\n",
       "                                      hashed_chat_id  textlen  len  \n",
       "0  b71a7a6e3eae414113fd7c6d3fc3e13b50fd5fbf335b95...        7    1  \n",
       "1  b71a7a6e3eae414113fd7c6d3fc3e13b50fd5fbf335b95...       32    6  "
      ]
     },
     "execution_count": 22,
     "metadata": {},
     "output_type": "execute_result"
    }
   ],
   "source": [
    "df.head(2)"
   ]
  },
  {
   "cell_type": "code",
   "execution_count": 24,
   "metadata": {
    "collapsed": false
   },
   "outputs": [
    {
     "data": {
      "text/plain": [
       "array([<matplotlib.axes._subplots.AxesSubplot object at 0x000000000E0B9BE0>,\n",
       "       <matplotlib.axes._subplots.AxesSubplot object at 0x000000000E581E48>], dtype=object)"
      ]
     },
     "execution_count": 24,
     "metadata": {},
     "output_type": "execute_result"
    },
    {
     "data": {
      "image/png": "[encoded data removed]",
      "text/plain": [
       "<matplotlib.figure.Figure at 0xe1d7710>"
      ]
     },
     "metadata": {},
     "output_type": "display_data"
    }
   ],
   "source": [
    "df.hist(column='len',by='source',bins=50,figsize=(12,4))"
   ]
  },
  {
   "cell_type": "code",
   "execution_count": 25,
   "metadata": {
    "collapsed": true
   },
   "outputs": [],
   "source": [
    "from sklearn.cross_validation import train_test_split"
   ]
  },
  {
   "cell_type": "code",
   "execution_count": 26,
   "metadata": {
    "collapsed": true
   },
   "outputs": [],
   "source": [
    "train, test=train_test_split(df,test_size=0.3)"
   ]
  },
  {
   "cell_type": "code",
   "execution_count": 27,
   "metadata": {
    "collapsed": true
   },
   "outputs": [],
   "source": [
    "## Create tfidf variables\n",
    "train_corpus = []\n",
    "test_corpus = []\n",
    "for each in train['text']:\n",
    "    train_corpus.append(each)\n",
    "for each in test['text']:\n",
    "    test_corpus.append(each)\n",
    "## Start creating them\n",
    "from sklearn.feature_extraction.text import TfidfVectorizer\n",
    "v=TfidfVectorizer()\n",
    "train_features= v.fit_transform(train_corpus)\n",
    "test_features = v.transform(test_corpus)"
   ]
  },
  {
   "cell_type": "code",
   "execution_count": 28,
   "metadata": {
    "collapsed": false
   },
   "outputs": [
    {
     "name": "stdout",
     "output_type": "stream",
     "text": [
      "(4427, 4187)\n",
      "(1898, 4187)\n"
     ]
    }
   ],
   "source": [
    "print(train_features.shape)\n",
    "print(test_features.shape)"
   ]
  },
  {
   "cell_type": "code",
   "execution_count": 41,
   "metadata": {
    "collapsed": true
   },
   "outputs": [],
   "source": [
    "from sklearn.tree import DecisionTreeClassifier\n",
    "from sklearn.ensemble import RandomForestClassifier\n",
    "from sklearn.metrics import accuracy_score\n",
    "from sklearn.metrics import confusion_matrix"
   ]
  },
  {
   "cell_type": "code",
   "execution_count": 42,
   "metadata": {
    "collapsed": false
   },
   "outputs": [],
   "source": [
    "Classifiers = { 'dt':DecisionTreeClassifier(random_state=42, min_samples_leaf=1),'rf':RandomForestClassifier(random_state=42, n_estimators=100,n_jobs=-1)}\n",
    " "
   ]
  },
  {
   "cell_type": "code",
   "execution_count": 43,
   "metadata": {
    "collapsed": true
   },
   "outputs": [],
   "source": [
    "def ML_Pipeline(clf_name):\n",
    "    clf = Classifiers[clf_name]\n",
    "    fit = clf.fit(train_features,train['source'])\n",
    "    pred = clf.predict(test_features)\n",
    "    Accuracy = accuracy_score(test['source'],pred)\n",
    "    Confusion_matrix = confusion_matrix(test['source'],pred)\n",
    "    print('==='*35)\n",
    "    print('Accuracy of '+ clf_name +' is '+str(Accuracy))\n",
    "    print('==='*35)\n",
    "    print(Confusion_matrix)"
   ]
  },
  {
   "cell_type": "code",
   "execution_count": 44,
   "metadata": {
    "collapsed": false
   },
   "outputs": [
    {
     "name": "stdout",
     "output_type": "stream",
     "text": [
      "=========================================================================================================\n",
      "Accuracy of dt is 0.699157007376\n",
      "=========================================================================================================\n",
      "[[894 191]\n",
      " [380 433]]\n"
     ]
    }
   ],
   "source": [
    "ML_Pipeline('dt')"
   ]
  },
  {
   "cell_type": "code",
   "execution_count": 45,
   "metadata": {
    "collapsed": false
   },
   "outputs": [
    {
     "name": "stdout",
     "output_type": "stream",
     "text": [
      "=========================================================================================================\n",
      "Accuracy of rf is 0.730769230769\n",
      "=========================================================================================================\n",
      "[[928 157]\n",
      " [354 459]]\n"
     ]
    }
   ],
   "source": [
    "ML_Pipeline('rf')"
   ]
  },
  {
   "cell_type": "code",
   "execution_count": null,
   "metadata": {
    "collapsed": true
   },
   "outputs": [],
   "source": []
  }
 ],
 "metadata": {
  "kernelspec": {
   "display_name": "Python 2",
   "language": "python",
   "name": "python2"
  },
  "language_info": {
   "codemirror_mode": {
    "name": "ipython",
    "version": 2
   },
   "file_extension": ".py",
   "mimetype": "text/x-python",
   "name": "python",
   "nbconvert_exporter": "python",
   "pygments_lexer": "ipython2",
   "version": "2.7.13"
  }
 },
 "nbformat": 4,
 "nbformat_minor": 2
}
